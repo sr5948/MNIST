{
  "nbformat": 4,
  "nbformat_minor": 0,
  "metadata": {
    "colab": {
      "provenance": []
    },
    "kernelspec": {
      "name": "python3",
      "display_name": "Python 3"
    },
    "language_info": {
      "name": "python"
    }
  },
  "cells": [
    {
      "cell_type": "code",
      "execution_count": 1,
      "metadata": {
        "id": "ukg6K62Z3LYc"
      },
      "outputs": [],
      "source": [
        "import numpy as np\n",
        "import pandas as pd\n",
        "import matplotlib.pyplot as plt\n",
        "%matplotlib inline\n",
        "from keras.datasets import mnist\n",
        "from keras.models import Sequential\n",
        "from keras.layers import Dense, Dropout, Activation\n",
        "from keras.utils import np_utils\n",
        "\n",
        "np.random.seed(35)"
      ]
    },
    {
      "cell_type": "code",
      "source": [
        "(X_train, y_train), (X_test, y_test) = mnist.load_data()\n",
        "print(\"X_train original shape\", X_train.shape)\n",
        "print(\"y_train original shape\", y_train.shape)\n",
        "print(\"X_test original shape\", X_test.shape)\n",
        "print(\"y_test original shape\", y_test.shape)"
      ],
      "metadata": {
        "colab": {
          "base_uri": "https://localhost:8080/"
        },
        "id": "LaGT0LIk3UQm",
        "outputId": "369f7596-adc5-40bd-eb7c-11477d51bdf4"
      },
      "execution_count": 2,
      "outputs": [
        {
          "output_type": "stream",
          "name": "stdout",
          "text": [
            "Downloading data from https://storage.googleapis.com/tensorflow/tf-keras-datasets/mnist.npz\n",
            "11493376/11490434 [==============================] - 0s 0us/step\n",
            "11501568/11490434 [==============================] - 0s 0us/step\n",
            "X_train original shape (60000, 28, 28)\n",
            "y_train original shape (60000,)\n",
            "X_test original shape (10000, 28, 28)\n",
            "y_test original shape (10000,)\n"
          ]
        }
      ]
    },
    {
      "cell_type": "code",
      "source": [
        "plt.imshow(X_train[1000], cmap='gray')\n",
        "plt.title(y_train[1000])"
      ],
      "metadata": {
        "colab": {
          "base_uri": "https://localhost:8080/",
          "height": 298
        },
        "id": "MBy5bBnJ3Xon",
        "outputId": "0ebf0429-9348-424b-999d-188553f45515"
      },
      "execution_count": 3,
      "outputs": [
        {
          "output_type": "execute_result",
          "data": {
            "text/plain": [
              "Text(0.5, 1.0, '0')"
            ]
          },
          "metadata": {},
          "execution_count": 3
        },
        {
          "output_type": "display_data",
          "data": {
            "text/plain": [
              "<Figure size 432x288 with 1 Axes>"
            ],
            "image/png": "[encoded data removed]"
          },
          "metadata": {
            "needs_background": "light"
          }
        }
      ]
    },
    {
      "cell_type": "code",
      "source": [
        "plt.imshow(X_train[1001], cmap='gray')\n",
        "plt.title(y_train[1001])"
      ],
      "metadata": {
        "colab": {
          "base_uri": "https://localhost:8080/",
          "height": 298
        },
        "id": "9Exf6gWP3c9z",
        "outputId": "9772f9c0-fc27-4f4f-9423-73c94e00d64e"
      },
      "execution_count": 4,
      "outputs": [
        {
          "output_type": "execute_result",
          "data": {
            "text/plain": [
              "Text(0.5, 1.0, '7')"
            ]
          },
          "metadata": {},
          "execution_count": 4
        },
        {
          "output_type": "display_data",
          "data": {
            "text/plain": [
              "<Figure size 432x288 with 1 Axes>"
            ],
            "image/png": "[encoded data removed]"
          },
          "metadata": {
            "needs_background": "light"
          }
        }
      ]
    },
    {
      "cell_type": "code",
      "source": [
        "plt.imshow(X_train[1002], cmap='gray')\n",
        "plt.title(y_train[1002])"
      ],
      "metadata": {
        "colab": {
          "base_uri": "https://localhost:8080/",
          "height": 298
        },
        "id": "gG1usPv43dKQ",
        "outputId": "b598e846-930a-4bcf-89d0-6ec3eb963b1b"
      },
      "execution_count": 5,
      "outputs": [
        {
          "output_type": "execute_result",
          "data": {
            "text/plain": [
              "Text(0.5, 1.0, '1')"
            ]
          },
          "metadata": {},
          "execution_count": 5
        },
        {
          "output_type": "display_data",
          "data": {
            "text/plain": [
              "<Figure size 432x288 with 1 Axes>"
            ],
            "image/png": "[encoded data removed]"
          },
          "metadata": {
            "needs_background": "light"
          }
        }
      ]
    },
    {
      "cell_type": "code",
      "source": [
        "plt.imshow(X_train[1003], cmap='gray')\n",
        "plt.title(y_train[1003])"
      ],
      "metadata": {
        "colab": {
          "base_uri": "https://localhost:8080/",
          "height": 298
        },
        "id": "fg2SfmHT3dZS",
        "outputId": "9d5ef43c-aff5-4afe-a33e-5ea475ef0407"
      },
      "execution_count": 6,
      "outputs": [
        {
          "output_type": "execute_result",
          "data": {
            "text/plain": [
              "Text(0.5, 1.0, '1')"
            ]
          },
          "metadata": {},
          "execution_count": 6
        },
        {
          "output_type": "display_data",
          "data": {
            "text/plain": [
              "<Figure size 432x288 with 1 Axes>"
            ],
            "image/png": "[encoded data removed]"
          },
          "metadata": {
            "needs_background": "light"
          }
        }
      ]
    },
    {
      "cell_type": "code",
      "source": [
        "X_train = X_train.reshape(60000,784)\n",
        "X_test = X_test.reshape(10000,784)\n",
        "\n",
        "X_train = X_train.astype('float32')\n",
        "X_test = X_test.astype('float32')\n",
        "\n",
        "X_train/=255\n",
        "X_test/=255 "
      ],
      "metadata": {
        "id": "nbE2ZvrE3bWh"
      },
      "execution_count": 7,
      "outputs": []
    },
    {
      "cell_type": "code",
      "source": [
        "number_of_classes = 10\n",
        "\n",
        "Y_train = np_utils.to_categorical(y_train, number_of_classes)\n",
        "Y_test = np_utils.to_categorical(y_test, number_of_classes)\n",
        "\n",
        "y_train[10], Y_train[10]"
      ],
      "metadata": {
        "colab": {
          "base_uri": "https://localhost:8080/"
        },
        "id": "62gBQB9J3ra3",
        "outputId": "2c51d181-7826-481c-b93b-f89485ca5522"
      },
      "execution_count": 8,
      "outputs": [
        {
          "output_type": "execute_result",
          "data": {
            "text/plain": [
              "(3, array([0., 0., 0., 1., 0., 0., 0., 0., 0., 0.], dtype=float32))"
            ]
          },
          "metadata": {},
          "execution_count": 8
        }
      ]
    },
    {
      "cell_type": "code",
      "source": [
        "model = Sequential()\n",
        "\n",
        "model.add(Dense(512, input_dim=784,activation='relu'))\n",
        "# An \"activation\" is just a non-linear function applied to the output\n",
        "# of the layer above. Here, with a \"rectified linear unit\",\n",
        "# we clamp all values below 0 to 0.\n",
        "#model.add(Activation('relu'))\n",
        "# Dropout helps protect the model from memorizing or \"overfitting\" the training data\n",
        "#model.add(Dropout(0.2))\n",
        "\n",
        "model.add(Dense(256,activation='relu'))\n",
        "#model.add(Activation('relu'))\n",
        "#model.add(Dropout(0.2))\n",
        "\n",
        "model.add(Dense(128,activation='relu'))\n",
        "#model.add(Activation('relu'))\n",
        "#model.add(Dropout(0.2))\n",
        "\n",
        "model.add(Dense(10,activation='softmax'))\n",
        "# This special \"softmax\" activation among other things,\n",
        "# ensures the output is a valid probaility distribution, that is\n",
        "# that its values are all non-negative and sum to 1.\n",
        "#model.add(Activation('softmax'))"
      ],
      "metadata": {
        "id": "xkA4DMvV3rsT"
      },
      "execution_count": 9,
      "outputs": []
    },
    {
      "cell_type": "code",
      "source": [
        "model.compile(loss='categorical_crossentropy', optimizer='adam', metrics=['accuracy'])"
      ],
      "metadata": {
        "id": "DrNxfcOy3ruw"
      },
      "execution_count": 10,
      "outputs": []
    },
    {
      "cell_type": "code",
      "source": [
        "model.summary()"
      ],
      "metadata": {
        "colab": {
          "base_uri": "https://localhost:8080/"
        },
        "id": "QJ6WuF7-3ryv",
        "outputId": "64c9b411-2e74-4152-8d4f-4c6473a04af8"
      },
      "execution_count": 11,
      "outputs": [
        {
          "output_type": "stream",
          "name": "stdout",
          "text": [
            "Model: \"sequential\"\n",
            "_________________________________________________________________\n",
            " Layer (type)                Output Shape              Param #   \n",
            "=================================================================\n",
            " dense (Dense)               (None, 512)               401920    \n",
            "                                                                 \n",
            " dense_1 (Dense)             (None, 256)               131328    \n",
            "                                                                 \n",
            " dense_2 (Dense)             (None, 128)               32896     \n",
            "                                                                 \n",
            " dense_3 (Dense)             (None, 10)                1290      \n",
            "                                                                 \n",
            "=================================================================\n",
            "Total params: 567,434\n",
            "Trainable params: 567,434\n",
            "Non-trainable params: 0\n",
            "_________________________________________________________________\n"
          ]
        }
      ]
    },
    {
      "cell_type": "code",
      "source": [
        "size = int(len(X_train) * 0.8)\n",
        "\n",
        "train_x, val_x = X_train[:size], X_train[size:]\n",
        "train_y, val_y = Y_train[:size], Y_train[size:]"
      ],
      "metadata": {
        "id": "PokCSu5P3r0v"
      },
      "execution_count": 12,
      "outputs": []
    },
    {
      "cell_type": "code",
      "source": [
        "hist = model.fit(train_x, train_y, batch_size=128, epochs=20, validation_data=(val_x, val_y))"
      ],
      "metadata": {
        "colab": {
          "base_uri": "https://localhost:8080/"
        },
        "id": "McH_ghk54CyQ",
        "outputId": "1fa5dd21-f0a6-4327-bc8a-827e47734f8d"
      },
      "execution_count": 13,
      "outputs": [
        {
          "output_type": "stream",
          "name": "stdout",
          "text": [
            "Epoch 1/20\n",
            "375/375 [==============================] - 7s 18ms/step - loss: 0.2539 - accuracy: 0.9252 - val_loss: 0.1513 - val_accuracy: 0.9512\n",
            "Epoch 2/20\n",
            "375/375 [==============================] - 5s 13ms/step - loss: 0.0920 - accuracy: 0.9717 - val_loss: 0.1098 - val_accuracy: 0.9668\n",
            "Epoch 3/20\n",
            "375/375 [==============================] - 5s 14ms/step - loss: 0.0602 - accuracy: 0.9819 - val_loss: 0.0971 - val_accuracy: 0.9701\n",
            "Epoch 4/20\n",
            "375/375 [==============================] - 5s 14ms/step - loss: 0.0413 - accuracy: 0.9867 - val_loss: 0.0940 - val_accuracy: 0.9720\n",
            "Epoch 5/20\n",
            "375/375 [==============================] - 5s 14ms/step - loss: 0.0306 - accuracy: 0.9905 - val_loss: 0.0918 - val_accuracy: 0.9753\n",
            "Epoch 6/20\n",
            "375/375 [==============================] - 6s 17ms/step - loss: 0.0266 - accuracy: 0.9913 - val_loss: 0.1307 - val_accuracy: 0.9662\n",
            "Epoch 7/20\n",
            "375/375 [==============================] - 5s 14ms/step - loss: 0.0224 - accuracy: 0.9929 - val_loss: 0.0997 - val_accuracy: 0.9739\n",
            "Epoch 8/20\n",
            "375/375 [==============================] - 6s 15ms/step - loss: 0.0175 - accuracy: 0.9941 - val_loss: 0.1026 - val_accuracy: 0.9746\n",
            "Epoch 9/20\n",
            "375/375 [==============================] - 6s 17ms/step - loss: 0.0200 - accuracy: 0.9935 - val_loss: 0.1009 - val_accuracy: 0.9747\n",
            "Epoch 10/20\n",
            "375/375 [==============================] - 9s 24ms/step - loss: 0.0128 - accuracy: 0.9960 - val_loss: 0.0933 - val_accuracy: 0.9798\n",
            "Epoch 11/20\n",
            "375/375 [==============================] - 10s 27ms/step - loss: 0.0166 - accuracy: 0.9942 - val_loss: 0.1059 - val_accuracy: 0.9752\n",
            "Epoch 12/20\n",
            "375/375 [==============================] - 6s 17ms/step - loss: 0.0138 - accuracy: 0.9954 - val_loss: 0.0932 - val_accuracy: 0.9797\n",
            "Epoch 13/20\n",
            "375/375 [==============================] - 6s 15ms/step - loss: 0.0111 - accuracy: 0.9965 - val_loss: 0.1033 - val_accuracy: 0.9803\n",
            "Epoch 14/20\n",
            "375/375 [==============================] - 6s 16ms/step - loss: 0.0138 - accuracy: 0.9955 - val_loss: 0.0965 - val_accuracy: 0.9783\n",
            "Epoch 15/20\n",
            "375/375 [==============================] - 5s 15ms/step - loss: 0.0121 - accuracy: 0.9962 - val_loss: 0.1414 - val_accuracy: 0.9708\n",
            "Epoch 16/20\n",
            "375/375 [==============================] - 5s 14ms/step - loss: 0.0094 - accuracy: 0.9970 - val_loss: 0.1203 - val_accuracy: 0.9770\n",
            "Epoch 17/20\n",
            "375/375 [==============================] - 7s 19ms/step - loss: 0.0102 - accuracy: 0.9970 - val_loss: 0.1187 - val_accuracy: 0.9769\n",
            "Epoch 18/20\n",
            "375/375 [==============================] - 6s 15ms/step - loss: 0.0109 - accuracy: 0.9967 - val_loss: 0.1096 - val_accuracy: 0.9784\n",
            "Epoch 19/20\n",
            "375/375 [==============================] - 5s 14ms/step - loss: 0.0081 - accuracy: 0.9975 - val_loss: 0.1222 - val_accuracy: 0.9797\n",
            "Epoch 20/20\n",
            "375/375 [==============================] - 5s 14ms/step - loss: 0.0094 - accuracy: 0.9974 - val_loss: 0.1251 - val_accuracy: 0.9783\n"
          ]
        }
      ]
    },
    {
      "cell_type": "code",
      "source": [
        "score = model.evaluate(X_test, Y_test)\n",
        "print()\n",
        "print('Test accuracy: ', score[1])"
      ],
      "metadata": {
        "colab": {
          "base_uri": "https://localhost:8080/"
        },
        "id": "cVgD8BUk4C0J",
        "outputId": "1f40e479-91da-4351-e0f9-b0c92664595a"
      },
      "execution_count": 14,
      "outputs": [
        {
          "output_type": "stream",
          "name": "stdout",
          "text": [
            "313/313 [==============================] - 1s 3ms/step - loss: 0.0993 - accuracy: 0.9793\n",
            "\n",
            "Test accuracy:  0.9793000221252441\n"
          ]
        }
      ]
    },
    {
      "cell_type": "code",
      "source": [
        "import numpy as np\n",
        "from keras.preprocessing import image\n",
        "#test_image = image.load_img('X_test[1000]')\n",
        "#test_image = image.img_to_array(test_image)\n",
        "#test_image = np.expand_dims(test_image, axis = 0)\n",
        "result = model.predict(X_train)\n",
        "#predictions = lm.predict(X_test)"
      ],
      "metadata": {
        "id": "KxgZYGbp4C3h"
      },
      "execution_count": 15,
      "outputs": []
    },
    {
      "cell_type": "code",
      "source": [
        "result[1000]"
      ],
      "metadata": {
        "colab": {
          "base_uri": "https://localhost:8080/"
        },
        "id": "HDHb066c4C6R",
        "outputId": "3abf8943-435f-4b33-c549-63f26f18ea02"
      },
      "execution_count": 16,
      "outputs": [
        {
          "output_type": "execute_result",
          "data": {
            "text/plain": [
              "array([1.0000000e+00, 1.8435761e-12, 2.3920248e-09, 1.2837341e-11,\n",
              "       2.1765686e-12, 4.9425356e-13, 4.7542176e-08, 8.4963617e-13,\n",
              "       2.8628772e-10, 2.6702898e-08], dtype=float32)"
            ]
          },
          "metadata": {},
          "execution_count": 16
        }
      ]
    },
    {
      "cell_type": "code",
      "source": [
        "result[1001]"
      ],
      "metadata": {
        "colab": {
          "base_uri": "https://localhost:8080/"
        },
        "id": "iJx49ryM4C9S",
        "outputId": "971f5f05-c0a5-4d18-90ee-266022b363ea"
      },
      "execution_count": 17,
      "outputs": [
        {
          "output_type": "execute_result",
          "data": {
            "text/plain": [
              "array([8.1010570e-15, 1.6911547e-10, 5.6799292e-13, 4.2253747e-15,\n",
              "       1.9147723e-05, 8.4381697e-16, 4.0745486e-18, 9.9994206e-01,\n",
              "       1.7257376e-13, 3.8691123e-05], dtype=float32)"
            ]
          },
          "metadata": {},
          "execution_count": 17
        }
      ]
    },
    {
      "cell_type": "code",
      "source": [
        "result[1002]"
      ],
      "metadata": {
        "colab": {
          "base_uri": "https://localhost:8080/"
        },
        "id": "bJZzANqL4fKz",
        "outputId": "750af29c-8a26-4022-92f3-b2019c31851f"
      },
      "execution_count": 18,
      "outputs": [
        {
          "output_type": "execute_result",
          "data": {
            "text/plain": [
              "array([8.37469649e-10, 9.99991059e-01, 7.90298245e-08, 5.71859005e-10,\n",
              "       2.34425286e-07, 1.39271066e-07, 1.10389976e-07, 9.57966449e-07,\n",
              "       7.40470477e-06, 3.76970313e-08], dtype=float32)"
            ]
          },
          "metadata": {},
          "execution_count": 18
        }
      ]
    },
    {
      "cell_type": "code",
      "source": [
        "result[1003]"
      ],
      "metadata": {
        "colab": {
          "base_uri": "https://localhost:8080/"
        },
        "id": "aiBDQcbJ3r4b",
        "outputId": "75899331-dd98-4f14-d63c-86bac1d9bcc7"
      },
      "execution_count": 19,
      "outputs": [
        {
          "output_type": "execute_result",
          "data": {
            "text/plain": [
              "array([5.0686207e-17, 1.0000000e+00, 1.3646192e-14, 8.1148631e-21,\n",
              "       1.3114939e-13, 1.1462677e-18, 4.7108505e-17, 5.4173856e-15,\n",
              "       2.2838418e-15, 4.1652481e-17], dtype=float32)"
            ]
          },
          "metadata": {},
          "execution_count": 19
        }
      ]
    }
  ]
}